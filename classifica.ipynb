{
 "cells": [
  {
   "cell_type": "code",
   "execution_count": 60,
   "id": "b14bd305",
   "metadata": {
    "_cell_guid": "b1076dfc-b9ad-4769-8c92-a6c4dae69d19",
    "_uuid": "8f2839f25d086af736a60e9eeb907d3b93b6e0e5",
    "execution": {
     "iopub.execute_input": "2022-08-23T03:26:38.157898Z",
     "iopub.status.busy": "2022-08-23T03:26:38.157172Z",
     "iopub.status.idle": "2022-08-23T03:31:03.772921Z",
     "shell.execute_reply": "2022-08-23T03:31:03.769869Z"
    },
    "papermill": {
     "duration": 265.627483,
     "end_time": "2022-08-23T03:31:03.778250",
     "exception": false,
     "start_time": "2022-08-23T03:26:38.150767",
     "status": "completed"
    },
    "tags": []
   },
   "outputs": [],
   "source": [
    "import zipfile#biblioteca para manipular arquivos zip\n",
    "import os#biblioteca para manipular o sistema de arquivos\n",
    "from PIL import Image#biblioteca para manipulação de imagens\n",
    "import numpy as np#biblioteca para manipulação de arrays numéricos\n",
    "\n",
    "#definição do tamanho das imagens e inicialização de listas\n",
    "IMG_SIZE = 80#tamanho para redimensionar as imagens (80x80 pixels)\n",
    "categories = []#lista para armazenar as categorias (subdiretórios)\n",
    "images = []#lista para armazenar as imagens processadas\n",
    "labels = []#lista para armazenar os rótulos das imagens\n",
    "\n",
    "#caminho do arquivo zip e do diretório de extração\n",
    "zip_path = 'C:/Users/lucia/Downloads/data.zip'#caminho do arquivo zip\n",
    "extract_path = 'C:/Users/lucia/Downloads/data_extracted'#caminho para extrair os arquivos\n",
    "\n",
    "#verifica se o arquivo zip existe e o extrai\n",
    "if os.path.exists(zip_path):\n",
    "    with zipfile.ZipFile(zip_path, 'r') as zip_ref:\n",
    "        zip_ref.extractall(extract_path)#extrai o conteúdo do zip\n",
    "    print(f\"arquivo zip extraído para: {extract_path}\")\n",
    "else:\n",
    "    print(f\"erro: arquivo zip não encontrado: {zip_path}\")\n",
    "\n",
    "#verifica se o diretório extraído existe\n",
    "if os.path.exists(extract_path):\n",
    "    data_path = extract_path#define o caminho dos dados extraídos\n",
    "    categories = os.listdir(data_path)#lista os subdiretórios (categorias)\n",
    "    print(\"categorias encontradas:\", categories)\n",
    "else:\n",
    "    print(\"erro: diretório extraído não encontrado.\")\n",
    "    categories = []\n",
    "\n",
    "#processa as imagens se houver pelo menos duas categorias\n",
    "if len(categories) < 2:\n",
    "    print(\"erro: menos de dois subdiretórios encontrados.\")\n",
    "else:\n",
    "    #define os caminhos para as categorias\n",
    "    path_rejected = os.path.join(data_path, categories[0])#caminho para a categoria \"rejeitado\"\n",
    "    path_approved = os.path.join(data_path, categories[1])#caminho para a categoria \"aprovado\"\n",
    "\n",
    "    #lista os arquivos em cada categoria\n",
    "    rejected = os.listdir(path_rejected)\n",
    "    approved = os.listdir(path_approved)\n",
    "\n",
    "    dataset = [rejected, approved]#agrupa as listas de arquivos\n",
    "\n",
    "    #processa as imagens de cada categoria\n",
    "    for i in range(len(dataset)):\n",
    "        for img_path in dataset[i]:\n",
    "            #abre a imagem, redimensiona e converte para array\n",
    "            img = Image.open(os.path.join(data_path, categories[i], img_path)).resize((IMG_SIZE, IMG_SIZE))\n",
    "            img = np.asarray(img)\n",
    "            images.append(img)#adiciona a imagem processada à lista\n",
    "            labels.append(i)#adiciona o rótulo correspondente (0 ou 1)\n",
    "\n",
    "    #converte a lista de imagens para um array numpy e mantém apenas o canal de cinza\n",
    "    images = np.asarray(images)\n",
    "    images = images[:, :, :, 0]\n",
    "\n",
    "    print(\"imagens processadas:\", len(images))"
   ]
  },
  {
   "cell_type": "code",
   "execution_count": 61,
   "id": "7b0ac8ae",
   "metadata": {
    "execution": {
     "iopub.execute_input": "2022-08-23T03:31:03.805934Z",
     "iopub.status.busy": "2022-08-23T03:31:03.805448Z",
     "iopub.status.idle": "2022-08-23T03:31:06.219547Z",
     "shell.execute_reply": "2022-08-23T03:31:06.218659Z"
    },
    "papermill": {
     "duration": 2.441536,
     "end_time": "2022-08-23T03:31:06.233146",
     "exception": false,
     "start_time": "2022-08-23T03:31:03.791610",
     "status": "completed"
    },
    "tags": []
   },
   "outputs": [],
   "source": [
    "#visualiza as primeiras 25 imagens processadas\n",
    "import matplotlib.pyplot as plt#biblioteca para visualização de gráficos\n",
    "\n",
    "plt.figure(figsize=(20, 20))\n",
    "print(images.shape)\n",
    "for i, img in enumerate(images[0:25]):\n",
    "    plt.subplot(5, 5, i + 1)#cria uma grade 5x5 para as imagens\n",
    "    plt.imshow(img, cmap='gray')#exibe a imagem em escala de cinza\n",
    "    plt.axis('off')#remove os eixos para uma visualização mais limpa\n",
    "plt.show()#exibe todas as imagens\n"
   ]
  },
  {
   "cell_type": "code",
   "execution_count": 62,
   "id": "43f1fdae",
   "metadata": {
    "execution": {
     "iopub.execute_input": "2022-08-23T03:31:06.263471Z",
     "iopub.status.busy": "2022-08-23T03:31:06.262347Z",
     "iopub.status.idle": "2022-08-23T03:31:06.269166Z",
     "shell.execute_reply": "2022-08-23T03:31:06.268226Z"
    },
    "papermill": {
     "duration": 0.023681,
     "end_time": "2022-08-23T03:31:06.271409",
     "exception": false,
     "start_time": "2022-08-23T03:31:06.247728",
     "status": "completed"
    },
    "tags": []
   },
   "outputs": [],
   "source": [
    "#prepara os dados de treinamento\n",
    "training_data = []\n",
    "for img in images:\n",
    "    img = img.reshape(IMG_SIZE, IMG_SIZE, 1)#redimensiona para incluir o canal de cor\n",
    "    training_data.append(img)"
   ]
  },
  {
   "cell_type": "code",
   "execution_count": 63,
   "id": "74c772a3",
   "metadata": {
    "execution": {
     "iopub.execute_input": "2022-08-23T03:31:06.297502Z",
     "iopub.status.busy": "2022-08-23T03:31:06.297059Z",
     "iopub.status.idle": "2022-08-23T03:31:06.327300Z",
     "shell.execute_reply": "2022-08-23T03:31:06.326543Z"
    },
    "papermill": {
     "duration": 0.045444,
     "end_time": "2022-08-23T03:31:06.329339",
     "exception": false,
     "start_time": "2022-08-23T03:31:06.283895",
     "status": "completed"
    },
    "tags": []
   },
   "outputs": [],
   "source": [
    "#normaliza os dados para valores entre 0 e 1\n",
    "training_data = np.array(training_data).astype(float) / 255\n",
    "labels = np.array(labels)#converte os rótulos para array NumPy"
   ]
  },
  {
   "cell_type": "code",
   "execution_count": 64,
   "id": "15949094",
   "metadata": {
    "execution": {
     "iopub.execute_input": "2022-08-23T03:31:06.357285Z",
     "iopub.status.busy": "2022-08-23T03:31:06.356972Z",
     "iopub.status.idle": "2022-08-23T03:31:06.362097Z",
     "shell.execute_reply": "2022-08-23T03:31:06.360694Z"
    },
    "papermill": {
     "duration": 0.021401,
     "end_time": "2022-08-23T03:31:06.364724",
     "exception": false,
     "start_time": "2022-08-23T03:31:06.343323",
     "status": "completed"
    },
    "tags": []
   },
   "outputs": [],
   "source": [
    "print(len(labels))\n",
    "print(training_data.shape)"
   ]
  },
  {
   "cell_type": "markdown",
   "id": "6d0d00b9",
   "metadata": {
    "papermill": {
     "duration": 0.012571,
     "end_time": "2022-08-23T03:31:06.391861",
     "exception": false,
     "start_time": "2022-08-23T03:31:06.379290",
     "status": "completed"
    },
    "tags": []
   },
   "source": [
    "# Aumentando dados"
   ]
  },
  {
   "cell_type": "code",
   "execution_count": 65,
   "id": "be1f5a85",
   "metadata": {
    "execution": {
     "iopub.execute_input": "2022-08-23T03:31:06.418800Z",
     "iopub.status.busy": "2022-08-23T03:31:06.418470Z",
     "iopub.status.idle": "2022-08-23T03:31:13.737327Z",
     "shell.execute_reply": "2022-08-23T03:31:13.736084Z"
    },
    "papermill": {
     "duration": 7.336939,
     "end_time": "2022-08-23T03:31:13.741618",
     "exception": false,
     "start_time": "2022-08-23T03:31:06.404679",
     "status": "completed"
    },
    "tags": []
   },
   "outputs": [],
   "source": [
    "import tensorflow as tf\n",
    "from tensorflow.keras.preprocessing.image import ImageDataGenerator"
   ]
  },
  {
   "cell_type": "code",
   "execution_count": 66,
   "id": "5f03b30b",
   "metadata": {
    "execution": {
     "iopub.execute_input": "2022-08-23T03:31:13.769550Z",
     "iopub.status.busy": "2022-08-23T03:31:13.768647Z",
     "iopub.status.idle": "2022-08-23T03:31:14.432317Z",
     "shell.execute_reply": "2022-08-23T03:31:14.431392Z"
    },
    "papermill": {
     "duration": 0.679646,
     "end_time": "2022-08-23T03:31:14.435120",
     "exception": false,
     "start_time": "2022-08-23T03:31:13.755474",
     "status": "completed"
    },
    "tags": []
   },
   "outputs": [],
   "source": [
    "datagen = ImageDataGenerator(\n",
    "    rotation_range=30,#rotação aleatória de até 30 graus\n",
    "    width_shift_range=0.2,#deslocamento horizontal\n",
    "    height_shift_range=0.2,#deslocamento vertical\n",
    "    shear_range=15,#transformação de cisalhamento\n",
    "    zoom_range=[0.7, 1.4],#zoom aleatório\n",
    "    horizontal_flip=True,#espelhamento horizontal\n",
    "    vertical_flip=True#espelhamento vertical\n",
    ")\n",
    "\n",
    "datagen.fit(training_data)#ajusta o gerador aos dados de treinamento\n",
    "\n",
    "#visualiza algumas imagens aumentadas\n",
    "plt.figure(figsize=(20, 8))\n",
    "for imagen, etiqueta in datagen.flow(training_data, labels, batch_size=10, shuffle=False):\n",
    "    for i in range(10):\n",
    "        plt.subplot(2, 5, i + 1)\n",
    "        plt.xticks([])\n",
    "        plt.yticks([])\n",
    "        plt.imshow(imagen[i].reshape(IMG_SIZE, IMG_SIZE), cmap=\"gray\")\n",
    "    break"
   ]
  },
  {
   "cell_type": "code",
   "execution_count": 67,
   "id": "21097103",
   "metadata": {
    "execution": {
     "iopub.execute_input": "2022-08-23T03:31:14.467482Z",
     "iopub.status.busy": "2022-08-23T03:31:14.466834Z",
     "iopub.status.idle": "2022-08-23T03:31:14.471267Z",
     "shell.execute_reply": "2022-08-23T03:31:14.470711Z"
    },
    "papermill": {
     "duration": 0.021595,
     "end_time": "2022-08-23T03:31:14.472905",
     "exception": false,
     "start_time": "2022-08-23T03:31:14.451310",
     "status": "completed"
    },
    "tags": []
   },
   "outputs": [],
   "source": [
    "#divide os dados em treinamento e validação\n",
    "training_d = training_data[:830]\n",
    "validation_d = training_data[830:]\n",
    "\n",
    "training_l = labels[:830]\n",
    "validation_l = labels[830:]\n"
   ]
  },
  {
   "cell_type": "code",
   "execution_count": 68,
   "id": "26d45b08",
   "metadata": {
    "execution": {
     "iopub.execute_input": "2022-08-23T03:31:14.505737Z",
     "iopub.status.busy": "2022-08-23T03:31:14.505361Z",
     "iopub.status.idle": "2022-08-23T03:31:14.517774Z",
     "shell.execute_reply": "2022-08-23T03:31:14.517083Z"
    },
    "papermill": {
     "duration": 0.029944,
     "end_time": "2022-08-23T03:31:14.519580",
     "exception": false,
     "start_time": "2022-08-23T03:31:14.489636",
     "status": "completed"
    },
    "tags": []
   },
   "outputs": [],
   "source": [
    "#configura o gerador de dados para treinamento\n",
    "BATCH_SIZE = 16\n",
    "data_gen_training = datagen.flow(training_d, training_l, batch_size=BATCH_SIZE)"
   ]
  },
  {
   "cell_type": "markdown",
   "id": "6c7a97ef",
   "metadata": {
    "papermill": {
     "duration": 0.013723,
     "end_time": "2022-08-23T03:31:14.547058",
     "exception": false,
     "start_time": "2022-08-23T03:31:14.533335",
     "status": "completed"
    },
    "tags": []
   },
   "source": [
    "# Criar modelos"
   ]
  },
  {
   "cell_type": "code",
   "execution_count": 69,
   "id": "f5e885bc",
   "metadata": {
    "execution": {
     "iopub.execute_input": "2022-08-23T03:31:14.576878Z",
     "iopub.status.busy": "2022-08-23T03:31:14.576533Z",
     "iopub.status.idle": "2022-08-23T03:31:14.761024Z",
     "shell.execute_reply": "2022-08-23T03:31:14.760410Z"
    },
    "papermill": {
     "duration": 0.202224,
     "end_time": "2022-08-23T03:31:14.763045",
     "exception": false,
     "start_time": "2022-08-23T03:31:14.560821",
     "status": "completed"
    },
    "tags": []
   },
   "outputs": [],
   "source": [
    "convModel = tf.keras.models.Sequential([\n",
    "    tf.keras.layers.Conv2D(32, (3, 3), activation='relu', input_shape=(IMG_SIZE, IMG_SIZE, 1)),#primeira camada convolucional\n",
    "    tf.keras.layers.MaxPooling2D(2, 2),#primeira camada de pooling\n",
    "    tf.keras.layers.Conv2D(64, (3, 3), activation='relu'),#segunda camada convolucional\n",
    "    tf.keras.layers.MaxPooling2D(2, 2),#segunda camada de pooling\n",
    "    tf.keras.layers.Conv2D(128, (3, 3), activation='relu'),#terceira camada convolucional\n",
    "    tf.keras.layers.MaxPooling2D(2, 2),#terceira camada de pooling\n",
    "    tf.keras.layers.Dropout(0.5),#camada de dropout para evitar overfitting\n",
    "    tf.keras.layers.Flatten(),#achata os dados para entrada na camada densa\n",
    "    tf.keras.layers.Dense(250, activation='relu'),#camada densa intermediária\n",
    "    tf.keras.layers.Dense(1, activation='sigmoid')#camada de saída com ativação sigmoide (classificação binária)\n",
    "])"
   ]
  },
  {
   "cell_type": "code",
   "execution_count": 70,
   "id": "49c48c09",
   "metadata": {
    "execution": {
     "iopub.execute_input": "2022-08-23T03:31:14.794943Z",
     "iopub.status.busy": "2022-08-23T03:31:14.794386Z",
     "iopub.status.idle": "2022-08-23T03:31:14.807602Z",
     "shell.execute_reply": "2022-08-23T03:31:14.806946Z"
    },
    "papermill": {
     "duration": 0.030965,
     "end_time": "2022-08-23T03:31:14.809839",
     "exception": false,
     "start_time": "2022-08-23T03:31:14.778874",
     "status": "completed"
    },
    "tags": []
   },
   "outputs": [],
   "source": [
    "#compila o modelo\n",
    "convModel.compile(optimizer='Adam',#otimizador Adam\n",
    "                  loss='binary_crossentropy',#função de perda para classificação binária\n",
    "                  metrics=['accuracy'])#métrica de avaliação: acurácia"
   ]
  },
  {
   "cell_type": "code",
   "execution_count": 71,
   "id": "92636254",
   "metadata": {
    "execution": {
     "iopub.execute_input": "2022-08-23T03:31:14.841479Z",
     "iopub.status.busy": "2022-08-23T03:31:14.840397Z",
     "iopub.status.idle": "2022-08-23T03:32:58.777889Z",
     "shell.execute_reply": "2022-08-23T03:32:58.776947Z"
    },
    "papermill": {
     "duration": 103.955834,
     "end_time": "2022-08-23T03:32:58.780377",
     "exception": false,
     "start_time": "2022-08-23T03:31:14.824543",
     "status": "completed"
    },
    "tags": []
   },
   "outputs": [],
   "source": [
    "import numpy as np\n",
    "\n",
    "#supondo que training_data e labels já estejam definidos\n",
    "training_data = np.array(training_data)\n",
    "labels = np.array(labels)\n",
    "\n",
    "#truncar training_data para ter o mesmo número de amostras que labels\n",
    "min_samples = min(len(training_data), len(labels))\n",
    "training_data = training_data[:min_samples]\n",
    "labels = labels[:min_samples]\n",
    "\n",
    "#treine o modelo\n",
    "modelo = convModel.fit(training_data, labels,\n",
    "                        batch_size=10,\n",
    "                        validation_split=0.15,\n",
    "                        epochs=25)"
   ]
  },
  {
   "cell_type": "code",
   "execution_count": 72,
   "id": "34ee1104",
   "metadata": {
    "execution": {
     "iopub.execute_input": "2022-08-23T03:32:58.930723Z",
     "iopub.status.busy": "2022-08-23T03:32:58.930211Z",
     "iopub.status.idle": "2022-08-23T03:34:48.120147Z",
     "shell.execute_reply": "2022-08-23T03:34:48.119085Z"
    },
    "papermill": {
     "duration": 109.267024,
     "end_time": "2022-08-23T03:34:48.122190",
     "exception": false,
     "start_time": "2022-08-23T03:32:58.855166",
     "status": "completed"
    },
    "tags": []
   },
   "outputs": [],
   "source": [
    "import numpy as np\n",
    "\n",
    "#supondo que validation_d e validation_l já estejam definidos\n",
    "validation_d = np.array(validation_d)\n",
    "validation_l = np.array(validation_l)\n",
    "\n",
    "#truncar validation_d para ter o mesmo número de amostras que validation_l\n",
    "min_samples = min(len(validation_d), len(validation_l))\n",
    "validation_d = validation_d[:min_samples]\n",
    "validation_l = validation_l[:min_samples]\n",
    "\n",
    "#treine o modelo\n",
    "modelo = convModel.fit(data_gen_training, epochs=50, batch_size=BATCH_SIZE,\n",
    "                       validation_data=(validation_d, validation_l),\n",
    "                       steps_per_epoch=int(np.ceil(len(training_d) / float(32))),\n",
    "                       validation_steps=int(np.ceil(len(validation_d) / float(32))),\n",
    "                      )"
   ]
  },
  {
   "cell_type": "markdown",
   "id": "f1e1dfb1",
   "metadata": {
    "papermill": {
     "duration": 0.143788,
     "end_time": "2022-08-23T03:34:48.410477",
     "exception": false,
     "start_time": "2022-08-23T03:34:48.266689",
     "status": "completed"
    },
    "tags": []
   },
   "source": [
    "# Modelo de verificação"
   ]
  },
  {
   "cell_type": "code",
   "execution_count": null,
   "id": "4a019322",
   "metadata": {
    "execution": {
     "iopub.execute_input": "2022-08-23T03:34:48.770376Z",
     "iopub.status.busy": "2022-08-23T03:34:48.770054Z",
     "iopub.status.idle": "2022-08-23T03:34:49.195949Z",
     "shell.execute_reply": "2022-08-23T03:34:49.195273Z"
    },
    "papermill": {
     "duration": 0.575118,
     "end_time": "2022-08-23T03:34:49.198129",
     "exception": false,
     "start_time": "2022-08-23T03:34:48.623011",
     "status": "completed"
    },
    "tags": []
   },
   "outputs": [],
   "source": [
    "#visualiza as métricas de treinamento\n",
    "plt.figure(figsize=(20, 10))\n",
    "plt.xlabel('Época')\n",
    "plt.ylabel(\"Magnitude da Perda\")\n",
    "model_loss = plt.subplot(2, 2, 1)\n",
    "model_loss.plot(modelo.history['loss'])\n",
    "model_loss.set_title(\"Perda\")\n",
    "model_val_loss = plt.subplot(2, 2, 2)\n",
    "model_val_loss.plot(modelo.history['val_loss'])\n",
    "model_val_loss.set_title(\"Val Perda\")\n",
    "model_accuracy = plt.subplot(2, 2, 3)\n",
    "model_accuracy.plot(modelo.history['accuracy'])\n",
    "model_accuracy.set_title(\"Precisão\")\n",
    "model_val_accuracy = plt.subplot(2, 2, 4)\n",
    "model_val_accuracy.plot(modelo.history['val_accuracy'])\n",
    "model_val_accuracy.set_title(\"Val Precisão\")"
   ]
  },
  {
   "cell_type": "markdown",
   "id": "b1d8880b",
   "metadata": {
    "papermill": {
     "duration": 0.147967,
     "end_time": "2022-08-23T03:34:49.497038",
     "exception": false,
     "start_time": "2022-08-23T03:34:49.349071",
     "status": "completed"
    },
    "tags": []
   },
   "source": [
    "# Testando modelo"
   ]
  },
  {
   "cell_type": "code",
   "execution_count": 74,
   "id": "7339cbde",
   "metadata": {
    "execution": {
     "iopub.execute_input": "2022-08-23T03:34:49.794281Z",
     "iopub.status.busy": "2022-08-23T03:34:49.793652Z",
     "iopub.status.idle": "2022-08-23T03:34:49.797715Z",
     "shell.execute_reply": "2022-08-23T03:34:49.796757Z"
    },
    "papermill": {
     "duration": 0.154827,
     "end_time": "2022-08-23T03:34:49.799289",
     "exception": false,
     "start_time": "2022-08-23T03:34:49.644462",
     "status": "completed"
    },
    "tags": []
   },
   "outputs": [],
   "source": [
    "import random"
   ]
  },
  {
   "cell_type": "code",
   "execution_count": 75,
   "id": "3b4371f3",
   "metadata": {
    "execution": {
     "iopub.execute_input": "2022-08-23T03:34:50.100283Z",
     "iopub.status.busy": "2022-08-23T03:34:50.099769Z",
     "iopub.status.idle": "2022-08-23T03:34:52.017741Z",
     "shell.execute_reply": "2022-08-23T03:34:52.016729Z"
    },
    "papermill": {
     "duration": 2.076173,
     "end_time": "2022-08-23T03:34:52.023679",
     "exception": false,
     "start_time": "2022-08-23T03:34:49.947506",
     "status": "completed"
    },
    "tags": []
   },
   "outputs": [],
   "source": [
    "testing_data = random.sample(list(training_data), 40)#seleciona 40 imagens aleatórias\n",
    "predictions = convModel.predict(np.asarray(testing_data))#faz previsões\n",
    "plt.figure(figsize=(25, 25))\n",
    "for i, prediction in enumerate(predictions):\n",
    "    img_plot = plt.subplot(8, 5, i + 1)\n",
    "    plt.imshow(testing_data[i], cmap='gray')\n",
    "    plt.xticks([])\n",
    "    plt.yticks([])\n",
    "    label = 'rejeitado'#define o rótulo como \"rejeitado\" por padrão\n",
    "    if prediction > 0.5:#se a previsão for maior que 0.5, altera para \"exportação\"\n",
    "        label = 'exportação'\n",
    "    img_plot.set_title(label)"
   ]
  },
  {
   "cell_type": "code",
   "execution_count": null,
   "id": "22f0fc79",
   "metadata": {
    "papermill": {
     "duration": 0.156559,
     "end_time": "2022-08-23T03:34:52.341523",
     "exception": false,
     "start_time": "2022-08-23T03:34:52.184964",
     "status": "completed"
    },
    "tags": []
   },
   "outputs": [],
   "source": []
  }
 ],
 "metadata": {
  "kernelspec": {
   "display_name": "meu_ambiente",
   "language": "python",
   "name": "python3"
  },
  "language_info": {
   "codemirror_mode": {
    "name": "ipython",
    "version": 3
   },
   "file_extension": ".py",
   "mimetype": "text/x-python",
   "name": "python",
   "nbconvert_exporter": "python",
   "pygments_lexer": "ipython3",
   "version": "3.11.9"
  },
  "papermill": {
   "default_parameters": {},
   "duration": 505.210592,
   "end_time": "2022-08-23T03:34:55.947946",
   "environment_variables": {},
   "exception": null,
   "input_path": "__notebook__.ipynb",
   "output_path": "__notebook__.ipynb",
   "parameters": {},
   "start_time": "2022-08-23T03:26:30.737354",
   "version": "2.3.4"
  }
 },
 "nbformat": 4,
 "nbformat_minor": 5
}
